{
 "cells": [
  {
   "cell_type": "code",
   "execution_count": 2,
   "metadata": {
    "collapsed": false
   },
   "outputs": [],
   "source": [
    "import sframe                            # see below for install instruction\n",
    "import matplotlib.pyplot as plt          # plotting\n",
    "import numpy as np                       # dense matrices\n",
    "from scipy.sparse import csr_matrix      # sparse matrices\n",
    "%matplotlib inline"
   ]
  },
  {
   "cell_type": "code",
   "execution_count": 3,
   "metadata": {
    "collapsed": true
   },
   "outputs": [],
   "source": [
    "wiki = sframe.SFrame('../data/people_wiki.gl/')\n",
    "wiki = wiki.add_row_number()  "
   ]
  },
  {
   "cell_type": "code",
   "execution_count": 4,
   "metadata": {
    "collapsed": true
   },
   "outputs": [],
   "source": [
    "def load_sparse_csr(filename):\n",
    "    loader = np.load(filename)\n",
    "    data = loader['data']\n",
    "    indices = loader['indices']\n",
    "    indptr = loader['indptr']\n",
    "    shape = loader['shape']\n",
    "    \n",
    "    return csr_matrix( (data, indices, indptr), shape)"
   ]
  },
  {
   "cell_type": "code",
   "execution_count": 5,
   "metadata": {
    "collapsed": true
   },
   "outputs": [],
   "source": [
    "word_count = load_sparse_csr('../data/people_wiki_word_count.npz')"
   ]
  },
  {
   "cell_type": "code",
   "execution_count": 6,
   "metadata": {
    "collapsed": true
   },
   "outputs": [],
   "source": [
    "map_index_to_word = sframe.SFrame('../data/people_wiki_map_index_to_word.gl/')"
   ]
  },
  {
   "cell_type": "code",
   "execution_count": 7,
   "metadata": {
    "collapsed": false
   },
   "outputs": [
    {
     "data": {
      "text/plain": [
       "NearestNeighbors(algorithm='brute', leaf_size=30, metric='euclidean',\n",
       "         metric_params=None, n_jobs=1, n_neighbors=5, p=2, radius=1.0)"
      ]
     },
     "execution_count": 7,
     "metadata": {},
     "output_type": "execute_result"
    }
   ],
   "source": [
    "from sklearn.neighbors import NearestNeighbors\n",
    "\n",
    "model = NearestNeighbors(metric='euclidean', algorithm='brute')\n",
    "model.fit(word_count)"
   ]
  },
  {
   "cell_type": "code",
   "execution_count": 8,
   "metadata": {
    "collapsed": false
   },
   "outputs": [
    {
     "name": "stdout",
     "output_type": "stream",
     "text": [
      "+-------+-------------------------------+--------------+\n",
      "|   id  |              URI              |     name     |\n",
      "+-------+-------------------------------+--------------+\n",
      "| 35817 | <http://dbpedia.org/resour... | Barack Obama |\n",
      "+-------+-------------------------------+--------------+\n",
      "+-------------------------------+\n",
      "|              text             |\n",
      "+-------------------------------+\n",
      "| barack hussein obama ii br... |\n",
      "+-------------------------------+\n",
      "[? rows x 4 columns]\n",
      "Note: Only the head of the SFrame is printed. This SFrame is lazily evaluated.\n",
      "You can use sf.materialize() to force materialization.\n"
     ]
    }
   ],
   "source": [
    "print wiki[wiki['name'] == 'Barack Obama']"
   ]
  },
  {
   "cell_type": "code",
   "execution_count": 9,
   "metadata": {
    "collapsed": true
   },
   "outputs": [],
   "source": [
    "distances, indices = model.kneighbors(word_count[35817], n_neighbors=10)"
   ]
  },
  {
   "cell_type": "code",
   "execution_count": 10,
   "metadata": {
    "collapsed": false
   },
   "outputs": [
    {
     "name": "stdout",
     "output_type": "stream",
     "text": [
      "+-------+----------------------------+---------------+\n",
      "|   id  |            name            |    distance   |\n",
      "+-------+----------------------------+---------------+\n",
      "| 35817 |        Barack Obama        |      0.0      |\n",
      "| 24478 |         Joe Biden          | 33.0756708171 |\n",
      "| 28447 |       George W. Bush       | 34.3947670438 |\n",
      "| 35357 |      Lawrence Summers      | 36.1524549651 |\n",
      "| 14754 |        Mitt Romney         | 36.1662826401 |\n",
      "| 13229 |      Francisco Barrio      | 36.3318042492 |\n",
      "| 31423 |       Walter Mondale       | 36.4005494464 |\n",
      "| 22745 | Wynn Normington Hugh-Jones | 36.4965751818 |\n",
      "| 36364 |         Don Bonker         |  36.633318168 |\n",
      "|  9210 |        Andy Anstett        | 36.9594372252 |\n",
      "+-------+----------------------------+---------------+\n",
      "[10 rows x 3 columns]\n",
      "\n"
     ]
    }
   ],
   "source": [
    "neighbors = sframe.SFrame({'distance':distances.flatten(), 'id':indices.flatten()})\n",
    "print wiki.join(neighbors, on='id').sort('distance')[['id','name','distance']]"
   ]
  },
  {
   "cell_type": "code",
   "execution_count": 12,
   "metadata": {
    "collapsed": true
   },
   "outputs": [],
   "source": [
    "def unpack_dict(matrix, map_index_to_word):\n",
    "    table = list(map_index_to_word.sort('index')['category'])\n",
    "    # if you're not using SFrame, replace this line with\n",
    "    ##      table = sorted(map_index_to_word, key=map_index_to_word.get)\n",
    "    \n",
    "    \n",
    "    data = matrix.data\n",
    "    indices = matrix.indices\n",
    "    indptr = matrix.indptr\n",
    "    \n",
    "    num_doc = matrix.shape[0]\n",
    "\n",
    "    return [{k:v for k,v in zip([table[word_id] for word_id in indices[indptr[i]:indptr[i+1]] ],\n",
    "                                 data[indptr[i]:indptr[i+1]].tolist())} \\\n",
    "               for i in xrange(num_doc) ]\n",
    "\n",
    "wiki['word_count'] = unpack_dict(word_count, map_index_to_word)"
   ]
  },
  {
   "cell_type": "code",
   "execution_count": 13,
   "metadata": {
    "collapsed": false
   },
   "outputs": [
    {
     "name": "stdout",
     "output_type": "stream",
     "text": [
      "+----+-------------------------------+---------------------+\n",
      "| id |              URI              |         name        |\n",
      "+----+-------------------------------+---------------------+\n",
      "| 0  | <http://dbpedia.org/resour... |    Digby Morrell    |\n",
      "| 1  | <http://dbpedia.org/resour... |    Alfred J. Lewy   |\n",
      "| 2  | <http://dbpedia.org/resour... |    Harpdog Brown    |\n",
      "| 3  | <http://dbpedia.org/resour... | Franz Rottensteiner |\n",
      "| 4  | <http://dbpedia.org/resour... |        G-Enka       |\n",
      "| 5  | <http://dbpedia.org/resour... |    Sam Henderson    |\n",
      "| 6  | <http://dbpedia.org/resour... |    Aaron LaCrate    |\n",
      "| 7  | <http://dbpedia.org/resour... |   Trevor Ferguson   |\n",
      "| 8  | <http://dbpedia.org/resour... |     Grant Nelson    |\n",
      "| 9  | <http://dbpedia.org/resour... |     Cathy Caruth    |\n",
      "+----+-------------------------------+---------------------+\n",
      "+-------------------------------+-------------------------------+\n",
      "|              text             |           word_count          |\n",
      "+-------------------------------+-------------------------------+\n",
      "| digby morrell born 10 octo... | {'selection': 1, 'carltons... |\n",
      "| alfred j lewy aka sandy le... | {'precise': 1, 'thomas': 1... |\n",
      "| harpdog brown is a singer ... | {'just': 1, 'issued': 1, '... |\n",
      "| franz rottensteiner born i... | {'englishreading': 1, 'all... |\n",
      "| henry krvits born 30 decem... | {'they': 1, 'gangstergenka... |\n",
      "| sam henderson born october... | {'now': 1, 'currently': 1,... |\n",
      "| aaron lacrate is an americ... | {'exclusive': 2, 'producer... |\n",
      "| trevor ferguson aka john f... | {'taxi': 1, 'salon': 1, 'g... |\n",
      "| grant nelson born 27 april... | {'houston': 1, 'frankie': ... |\n",
      "| cathy caruth born 1955 is ... | {'phenomenon': 1, 'deboras... |\n",
      "+-------------------------------+-------------------------------+\n",
      "[59071 rows x 5 columns]\n",
      "Note: Only the head of the SFrame is printed.\n",
      "You can use print_rows(num_rows=m, num_columns=n) to print more rows and columns.\n"
     ]
    }
   ],
   "source": [
    "print wiki"
   ]
  },
  {
   "cell_type": "code",
   "execution_count": 14,
   "metadata": {
    "collapsed": false
   },
   "outputs": [
    {
     "name": "stdout",
     "output_type": "stream",
     "text": [
      "+-------+-------+\n",
      "|  word | count |\n",
      "+-------+-------+\n",
      "|  the  |   40  |\n",
      "|   in  |   30  |\n",
      "|  and  |   21  |\n",
      "|   of  |   18  |\n",
      "|   to  |   14  |\n",
      "|  his  |   11  |\n",
      "| obama |   9   |\n",
      "|  act  |   8   |\n",
      "|   a   |   7   |\n",
      "|   he  |   7   |\n",
      "+-------+-------+\n",
      "[273 rows x 2 columns]\n",
      "Note: Only the head of the SFrame is printed.\n",
      "You can use print_rows(num_rows=m, num_columns=n) to print more rows and columns.\n",
      "+-----------+-------+\n",
      "|    word   | count |\n",
      "+-----------+-------+\n",
      "|    the    |   36  |\n",
      "|     of    |   24  |\n",
      "|    and    |   18  |\n",
      "|     in    |   17  |\n",
      "|     he    |   10  |\n",
      "|     to    |   9   |\n",
      "| chihuahua |   7   |\n",
      "|     a     |   6   |\n",
      "|  governor |   6   |\n",
      "|     as    |   5   |\n",
      "+-----------+-------+\n",
      "[225 rows x 2 columns]\n",
      "Note: Only the head of the SFrame is printed.\n",
      "You can use print_rows(num_rows=m, num_columns=n) to print more rows and columns.\n"
     ]
    }
   ],
   "source": [
    "def top_words(name):\n",
    "    \"\"\"\n",
    "    Get a table of the most frequent words in the given person's wikipedia page.\n",
    "    \"\"\"\n",
    "    row = wiki[wiki['name'] == name]\n",
    "    word_count_table = row[['word_count']].stack('word_count', new_column_name=['word','count'])\n",
    "    return word_count_table.sort('count', ascending=False)\n",
    "\n",
    "obama_words = top_words('Barack Obama')\n",
    "print obama_words\n",
    "\n",
    "barrio_words = top_words('Francisco Barrio')\n",
    "print barrio_words"
   ]
  },
  {
   "cell_type": "code",
   "execution_count": 15,
   "metadata": {
    "collapsed": true
   },
   "outputs": [],
   "source": [
    "combined_words = obama_words.join(barrio_words, on='word')"
   ]
  },
  {
   "cell_type": "code",
   "execution_count": 16,
   "metadata": {
    "collapsed": true
   },
   "outputs": [],
   "source": [
    "combined_words = combined_words.rename({'count':'Obama', 'count.1':'Barrio'})"
   ]
  },
  {
   "cell_type": "code",
   "execution_count": 17,
   "metadata": {
    "collapsed": false
   },
   "outputs": [
    {
     "data": {
      "text/html": [
       "<div style=\"max-height:1000px;max-width:1500px;overflow:auto;\"><table frame=\"box\" rules=\"cols\">\n",
       "    <tr>\n",
       "        <th style=\"padding-left: 1em; padding-right: 1em; text-align: center\">word</th>\n",
       "        <th style=\"padding-left: 1em; padding-right: 1em; text-align: center\">Obama</th>\n",
       "        <th style=\"padding-left: 1em; padding-right: 1em; text-align: center\">Barrio</th>\n",
       "    </tr>\n",
       "    <tr>\n",
       "        <td style=\"padding-left: 1em; padding-right: 1em; text-align: center; vertical-align: top\">the</td>\n",
       "        <td style=\"padding-left: 1em; padding-right: 1em; text-align: center; vertical-align: top\">40</td>\n",
       "        <td style=\"padding-left: 1em; padding-right: 1em; text-align: center; vertical-align: top\">36</td>\n",
       "    </tr>\n",
       "    <tr>\n",
       "        <td style=\"padding-left: 1em; padding-right: 1em; text-align: center; vertical-align: top\">in</td>\n",
       "        <td style=\"padding-left: 1em; padding-right: 1em; text-align: center; vertical-align: top\">30</td>\n",
       "        <td style=\"padding-left: 1em; padding-right: 1em; text-align: center; vertical-align: top\">17</td>\n",
       "    </tr>\n",
       "    <tr>\n",
       "        <td style=\"padding-left: 1em; padding-right: 1em; text-align: center; vertical-align: top\">and</td>\n",
       "        <td style=\"padding-left: 1em; padding-right: 1em; text-align: center; vertical-align: top\">21</td>\n",
       "        <td style=\"padding-left: 1em; padding-right: 1em; text-align: center; vertical-align: top\">18</td>\n",
       "    </tr>\n",
       "    <tr>\n",
       "        <td style=\"padding-left: 1em; padding-right: 1em; text-align: center; vertical-align: top\">of</td>\n",
       "        <td style=\"padding-left: 1em; padding-right: 1em; text-align: center; vertical-align: top\">18</td>\n",
       "        <td style=\"padding-left: 1em; padding-right: 1em; text-align: center; vertical-align: top\">24</td>\n",
       "    </tr>\n",
       "    <tr>\n",
       "        <td style=\"padding-left: 1em; padding-right: 1em; text-align: center; vertical-align: top\">to</td>\n",
       "        <td style=\"padding-left: 1em; padding-right: 1em; text-align: center; vertical-align: top\">14</td>\n",
       "        <td style=\"padding-left: 1em; padding-right: 1em; text-align: center; vertical-align: top\">9</td>\n",
       "    </tr>\n",
       "    <tr>\n",
       "        <td style=\"padding-left: 1em; padding-right: 1em; text-align: center; vertical-align: top\">his</td>\n",
       "        <td style=\"padding-left: 1em; padding-right: 1em; text-align: center; vertical-align: top\">11</td>\n",
       "        <td style=\"padding-left: 1em; padding-right: 1em; text-align: center; vertical-align: top\">5</td>\n",
       "    </tr>\n",
       "    <tr>\n",
       "        <td style=\"padding-left: 1em; padding-right: 1em; text-align: center; vertical-align: top\">a</td>\n",
       "        <td style=\"padding-left: 1em; padding-right: 1em; text-align: center; vertical-align: top\">7</td>\n",
       "        <td style=\"padding-left: 1em; padding-right: 1em; text-align: center; vertical-align: top\">6</td>\n",
       "    </tr>\n",
       "    <tr>\n",
       "        <td style=\"padding-left: 1em; padding-right: 1em; text-align: center; vertical-align: top\">he</td>\n",
       "        <td style=\"padding-left: 1em; padding-right: 1em; text-align: center; vertical-align: top\">7</td>\n",
       "        <td style=\"padding-left: 1em; padding-right: 1em; text-align: center; vertical-align: top\">10</td>\n",
       "    </tr>\n",
       "    <tr>\n",
       "        <td style=\"padding-left: 1em; padding-right: 1em; text-align: center; vertical-align: top\">as</td>\n",
       "        <td style=\"padding-left: 1em; padding-right: 1em; text-align: center; vertical-align: top\">6</td>\n",
       "        <td style=\"padding-left: 1em; padding-right: 1em; text-align: center; vertical-align: top\">5</td>\n",
       "    </tr>\n",
       "    <tr>\n",
       "        <td style=\"padding-left: 1em; padding-right: 1em; text-align: center; vertical-align: top\">was</td>\n",
       "        <td style=\"padding-left: 1em; padding-right: 1em; text-align: center; vertical-align: top\">5</td>\n",
       "        <td style=\"padding-left: 1em; padding-right: 1em; text-align: center; vertical-align: top\">4</td>\n",
       "    </tr>\n",
       "</table>\n",
       "[56 rows x 3 columns]<br/>Note: Only the head of the SFrame is printed.<br/>You can use print_rows(num_rows=m, num_columns=n) to print more rows and columns.\n",
       "</div>"
      ],
      "text/plain": [
       "Columns:\n",
       "\tword\tstr\n",
       "\tObama\tint\n",
       "\tBarrio\tint\n",
       "\n",
       "Rows: 56\n",
       "\n",
       "Data:\n",
       "+------+-------+--------+\n",
       "| word | Obama | Barrio |\n",
       "+------+-------+--------+\n",
       "| the  |   40  |   36   |\n",
       "|  in  |   30  |   17   |\n",
       "| and  |   21  |   18   |\n",
       "|  of  |   18  |   24   |\n",
       "|  to  |   14  |   9    |\n",
       "| his  |   11  |   5    |\n",
       "|  a   |   7   |   6    |\n",
       "|  he  |   7   |   10   |\n",
       "|  as  |   6   |   5    |\n",
       "| was  |   5   |   4    |\n",
       "+------+-------+--------+\n",
       "[56 rows x 3 columns]\n",
       "Note: Only the head of the SFrame is printed.\n",
       "You can use print_rows(num_rows=m, num_columns=n) to print more rows and columns."
      ]
     },
     "execution_count": 17,
     "metadata": {},
     "output_type": "execute_result"
    }
   ],
   "source": [
    "combined_words.sort('Obama', ascending=False)"
   ]
  },
  {
   "cell_type": "code",
   "execution_count": 19,
   "metadata": {
    "collapsed": false
   },
   "outputs": [
    {
     "data": {
      "text/plain": [
       "dtype: str\n",
       "Rows: 5\n",
       "['the', 'in', 'and', 'of', 'to']"
      ]
     },
     "execution_count": 19,
     "metadata": {},
     "output_type": "execute_result"
    }
   ],
   "source": [
    "combined_words['word'][0:5]"
   ]
  },
  {
   "cell_type": "code",
   "execution_count": 21,
   "metadata": {
    "collapsed": false
   },
   "outputs": [],
   "source": [
    "common_words = set(combined_words['word'][0:5])  # YOUR CODE HERE\n",
    "\n",
    "def has_top_words(word_count_vector):\n",
    "    # extract the keys of word_count_vector and convert it to a set\n",
    "    unique_words = set(word_count_vector.keys())   # YOUR CODE HERE\n",
    "    # return True if common_words is a subset of unique_words\n",
    "    # return False otherwise\n",
    "    return common_words.issubset(unique_words)  # YOUR CODE HERE\n",
    "\n",
    "wiki['has_top_words'] = wiki['word_count'].apply(has_top_words)\n"
   ]
  },
  {
   "cell_type": "code",
   "execution_count": null,
   "metadata": {
    "collapsed": true
   },
   "outputs": [],
   "source": [
    "npwiki[wiki['has_top_words'] == True]"
   ]
  },
  {
   "cell_type": "code",
   "execution_count": null,
   "metadata": {
    "collapsed": true
   },
   "outputs": [],
   "source": []
  }
 ],
 "metadata": {
  "kernelspec": {
   "display_name": "Python 2",
   "language": "python",
   "name": "python2"
  },
  "language_info": {
   "codemirror_mode": {
    "name": "ipython",
    "version": 2
   },
   "file_extension": ".py",
   "mimetype": "text/x-python",
   "name": "python",
   "nbconvert_exporter": "python",
   "pygments_lexer": "ipython2",
   "version": "2.7.11"
  }
 },
 "nbformat": 4,
 "nbformat_minor": 0
}
