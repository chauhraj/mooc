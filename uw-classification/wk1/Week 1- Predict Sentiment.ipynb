{
 "cells": [
  {
   "cell_type": "code",
   "execution_count": 1,
   "metadata": {
    "collapsed": false
   },
   "outputs": [],
   "source": [
    "import numpy as np\n",
    "import sframe as sf"
   ]
  },
  {
   "cell_type": "code",
   "execution_count": 2,
   "metadata": {
    "collapsed": false
   },
   "outputs": [
    {
     "name": "stderr",
     "output_type": "stream",
     "text": [
      "[INFO] sframe.cython.cy_server: SFrame v2.1 started. Logging /tmp/sframe_server_1472352428.log\n"
     ]
    }
   ],
   "source": [
    "products = sf.SFrame('../data/amazon_baby.gl/')"
   ]
  },
  {
   "cell_type": "code",
   "execution_count": 3,
   "metadata": {
    "collapsed": true
   },
   "outputs": [],
   "source": [
    "def remove_punctuation(text):\n",
    "    import string\n",
    "    return text.translate(None, string.punctuation)"
   ]
  },
  {
   "cell_type": "code",
   "execution_count": 4,
   "metadata": {
    "collapsed": false
   },
   "outputs": [],
   "source": [
    "products['review_clean'] = products['review'].apply(remove_punctuation)\n",
    "products = products.fillna('review', '')\n",
    "products = products[products['rating'] != 3]\n",
    "products['sentiment'] = products['rating'].apply(lambda rating: +1 if rating > 3 else -1)"
   ]
  },
  {
   "cell_type": "code",
   "execution_count": 5,
   "metadata": {
    "collapsed": true
   },
   "outputs": [],
   "source": [
    "train_data, test_data = products.random_split(.8, seed = 1)"
   ]
  },
  {
   "cell_type": "markdown",
   "metadata": {},
   "source": [
    "# Building the Bag Of Words aka Word Count aka Count Vector"
   ]
  },
  {
   "cell_type": "markdown",
   "metadata": {},
   "source": [
    "Bag of words is the distinct collection of words in the corpus or training data. For each document or row, it is count of each word from the corpus."
   ]
  },
  {
   "cell_type": "code",
   "execution_count": 6,
   "metadata": {
    "collapsed": true
   },
   "outputs": [],
   "source": [
    "from sklearn.feature_extraction.text import CountVectorizer\n",
    "vectorizer = CountVectorizer(token_pattern=r'\\b\\w+\\b')\n",
    "\n",
    "# Convert the training data into a sparse matrix\n",
    "train_matrix = vectorizer.fit_transform(train_data['review_clean'].to_numpy())\n",
    "test_matrix = vectorizer.transform(test_data['review_clean'].to_numpy())"
   ]
  },
  {
   "cell_type": "markdown",
   "metadata": {},
   "source": [
    "# Train Sentiment Classifier With Logistic Regression"
   ]
  },
  {
   "cell_type": "markdown",
   "metadata": {},
   "source": [
    "## Learn the Logistic Regression Classifier"
   ]
  },
  {
   "cell_type": "code",
   "execution_count": 7,
   "metadata": {
    "collapsed": false
   },
   "outputs": [
    {
     "data": {
      "text/plain": [
       "LogisticRegression(C=1.0, class_weight=None, dual=False, fit_intercept=True,\n",
       "          intercept_scaling=1, max_iter=100, multi_class='ovr', n_jobs=1,\n",
       "          penalty='l2', random_state=None, solver='liblinear', tol=0.0001,\n",
       "          verbose=0, warm_start=False)"
      ]
     },
     "execution_count": 7,
     "metadata": {},
     "output_type": "execute_result"
    }
   ],
   "source": [
    "from sklearn.linear_model import LogisticRegression\n",
    "sentiment_model = LogisticRegression()\n",
    "\n",
    "sentiment_model.fit(X = train_matrix, y = train_data['sentiment'])"
   ]
  },
  {
   "cell_type": "code",
   "execution_count": 140,
   "metadata": {
    "collapsed": false
   },
   "outputs": [
    {
     "name": "stdout",
     "output_type": "stream",
     "text": [
      "Ans: No of Weights >= 0 is 86906\n"
     ]
    }
   ],
   "source": [
    "coeff = sentiment_model.coef_\n",
    "pos_wts = coeff[ coeff >= 0 ]\n",
    "print \"Ans: No of Weights >= 0 is\", np.shape(pos_wts)[0]"
   ]
  },
  {
   "cell_type": "code",
   "execution_count": 9,
   "metadata": {
    "collapsed": false
   },
   "outputs": [
    {
     "name": "stdout",
     "output_type": "stream",
     "text": [
      "Shape of Coefficients (1, 121712)\n",
      "Shape of Training data (133416, 121712)\n"
     ]
    }
   ],
   "source": [
    "print \"Shape of Coefficients\", np.shape(coeff)\n",
    "print \"Shape of Training data\", np.shape(train_matrix)\n"
   ]
  },
  {
   "cell_type": "markdown",
   "metadata": {},
   "source": [
    "### Making Predictions With Logistic Regression"
   ]
  },
  {
   "cell_type": "code",
   "execution_count": 10,
   "metadata": {
    "collapsed": false
   },
   "outputs": [
    {
     "name": "stdout",
     "output_type": "stream",
     "text": [
      "+-------------------------------+-------------------------------+--------+\n",
      "|              name             |             review            | rating |\n",
      "+-------------------------------+-------------------------------+--------+\n",
      "|   Our Baby Girl Memory Book   | Absolutely love it and all... |  5.0   |\n",
      "| Wall Decor Removable Decal... | Would not purchase again o... |  2.0   |\n",
      "| New Style Trailing Cherry ... | Was so excited to get this... |  1.0   |\n",
      "+-------------------------------+-------------------------------+--------+\n",
      "+-------------------------------+-----------+\n",
      "|          review_clean         | sentiment |\n",
      "+-------------------------------+-----------+\n",
      "| Absolutely love it and all... |     1     |\n",
      "| Would not purchase again o... |     -1    |\n",
      "| Was so excited to get this... |     -1    |\n",
      "+-------------------------------+-----------+\n",
      "[3 rows x 5 columns]\n",
      "\n"
     ]
    }
   ],
   "source": [
    "sample_test_data = test_data[10:13]\n",
    "print sample_test_data"
   ]
  },
  {
   "cell_type": "code",
   "execution_count": 11,
   "metadata": {
    "collapsed": false
   },
   "outputs": [
    {
     "name": "stdout",
     "output_type": "stream",
     "text": [
      "[  5.60224818  -3.17079879 -10.42488847]\n"
     ]
    }
   ],
   "source": [
    "sample_test_matrix = vectorizer.transform(sample_test_data['review_clean'].to_numpy())\n",
    "scores = sentiment_model.decision_function(sample_test_matrix)\n",
    "print scores"
   ]
  },
  {
   "cell_type": "code",
   "execution_count": 12,
   "metadata": {
    "collapsed": false
   },
   "outputs": [
    {
     "data": {
      "text/plain": [
       "array([ 1, -1, -1])"
      ]
     },
     "execution_count": 12,
     "metadata": {},
     "output_type": "execute_result"
    }
   ],
   "source": [
    "def predictLabelsFromSframe(model, sf, colName):\n",
    "    def predictLabels(scores):\n",
    "        def f(a):\n",
    "            if(a > 0):\n",
    "                return 1\n",
    "            else:\n",
    "                return -1\n",
    "        g = np.vectorize(f)    \n",
    "        return g(scores)\n",
    "    \n",
    "    matrix = vectorizer.transform(sf[colName].to_numpy())\n",
    "    return predictLabels( model.decision_function(matrix) )\n",
    "\n",
    "predictLabelsFromSframe(sentiment_model, sample_test_data, 'review_clean')"
   ]
  },
  {
   "cell_type": "code",
   "execution_count": 15,
   "metadata": {
    "collapsed": false
   },
   "outputs": [
    {
     "data": {
      "text/plain": [
       "array([  9.96324003e-01,   4.02795251e-02,   2.96835318e-05])"
      ]
     },
     "execution_count": 15,
     "metadata": {},
     "output_type": "execute_result"
    }
   ],
   "source": [
    "def predictProbabilityUsingScores(scores):\n",
    "    denom = 1 + np.exp(-scores)\n",
    "    return 1.0 / denom\n",
    "\n",
    "predictProbabilityUsingScores(scores)"
   ]
  },
  {
   "cell_type": "code",
   "execution_count": 28,
   "metadata": {
    "collapsed": false
   },
   "outputs": [
    {
     "name": "stdout",
     "output_type": "stream",
     "text": [
      "Probability Using Custom funtions: [[  9.96324003e-01   4.02795251e-02   2.96835318e-05]]\n",
      "Probability Using Sklearn funtions: [  9.96324003e-01   4.02795251e-02   2.96835318e-05]\n",
      "Ans to Quiz from Section 12: third\n"
     ]
    }
   ],
   "source": [
    "def calculateScores(model, data):\n",
    "    scores = data * model.coef_.T\n",
    "    return  scores + model.intercept_\n",
    "\n",
    "scores0 = calculateScores(sentiment_model, sample_test_matrix)\n",
    "myProbabilities = predictProbabilityUsingScores(scores0).T\n",
    "print \"Probability Using Custom funtions:\", myProbabilities\n",
    "print \"Probability Using Sklearn funtions:\", sentiment_model.predict_proba(sample_test_matrix)[:, 1].T\n",
    "\n",
    "def quiz12Ans(myProbabilities):\n",
    "    firstProb = myProbabilities[0][0]\n",
    "    secondProb = myProbabilities[0][1]\n",
    "    thirdProb = myProbabilities[0][2]\n",
    "    if firstProb < secondProb:\n",
    "        if firstProb < thirdProb:\n",
    "            return \"first\"\n",
    "        else: \n",
    "            if thirdProb < secondProb:\n",
    "                return \"third\"\n",
    "            else: \n",
    "                return \"second\"\n",
    "    else:\n",
    "        if secondProb < thirdProb:\n",
    "            return \"second\"\n",
    "        else:\n",
    "            return \"third\"\n",
    "print \"Ans to Quiz from Section 12:\", quiz12Ans(myProbabilities)        "
   ]
  },
  {
   "cell_type": "code",
   "execution_count": 38,
   "metadata": {
    "collapsed": false
   },
   "outputs": [
    {
     "name": "stdout",
     "output_type": "stream",
     "text": [
      "Type: <type 'numpy.ndarray'> Shape: (3,)\n"
     ]
    }
   ],
   "source": [
    "print \"Type:\", type(myProbabilities[0]), \"Shape:\", np.shape(myProbabilities[0])"
   ]
  },
  {
   "cell_type": "markdown",
   "metadata": {
    "collapsed": true
   },
   "source": [
    "### Finding the most positive and negative review"
   ]
  },
  {
   "cell_type": "code",
   "execution_count": 49,
   "metadata": {
    "collapsed": false
   },
   "outputs": [
    {
     "data": {
      "text/plain": [
       "array([  9.96324003e-01,   4.02795251e-02,   2.96835318e-05])"
      ]
     },
     "execution_count": 49,
     "metadata": {},
     "output_type": "execute_result"
    }
   ],
   "source": [
    "myProbabilities[0].astype(np.float)"
   ]
  },
  {
   "cell_type": "code",
   "execution_count": 65,
   "metadata": {
    "collapsed": false
   },
   "outputs": [],
   "source": [
    "def associateProbabilities(model, sframe, data):\n",
    "    probabilities = predictProbabilityUsingScores(calculateScores(model, data))\n",
    "    # print \"Shape of probabilies:\", np.shape(probabilities)\n",
    "    # print \"Shape of SFrame: Dim[\", sframe.num_rows(), \", \", sframe.num_cols(), \"]\"\n",
    "    sframe['Probability'] = np.ravel(probabilities)\n",
    "    return sframe\n",
    "\n",
    "d = associateProbabilities(sentiment_model, test_data, test_matrix)"
   ]
  },
  {
   "cell_type": "code",
   "execution_count": 97,
   "metadata": {
    "collapsed": false
   },
   "outputs": [
    {
     "data": {
      "text/plain": [
       "<bound method SFrame.add_row_number of Columns:\n",
       "\tname\tstr\n",
       "\n",
       "Rows: 30\n",
       "\n",
       "Data:\n",
       "+-------------------------------+\n",
       "|              name             |\n",
       "+-------------------------------+\n",
       "| Fisher-Price Ocean Wonders... |\n",
       "| Levana Safe N'See Digital ... |\n",
       "| Safety 1st Exchangeable Ti... |\n",
       "| Adiri BPA Free Natural Nur... |\n",
       "| VTech Communications Safe ... |\n",
       "| The First Years True Choic... |\n",
       "| Safety 1st High-Def Digita... |\n",
       "| Cloth Diaper Sprayer--styl... |\n",
       "| Philips AVENT Newborn Star... |\n",
       "| Motorola Digital Video Bab... |\n",
       "+-------------------------------+\n",
       "[30 rows x 1 columns]\n",
       "Note: Only the head of the SFrame is printed.\n",
       "You can use print_rows(num_rows=m, num_columns=n) to print more rows and columns.>"
      ]
     },
     "execution_count": 97,
     "metadata": {},
     "output_type": "execute_result"
    }
   ],
   "source": [
    "top30Names = sf.SFrame({'name': d.topk('Probability', k = 30)['name']})\n",
    "top30Names.add_row_number()\n",
    "bottom30Names = sf.SFrame({'name': d.topk('Probability', k = 30, reverse=True)['name']})\n",
    "bottom30Names.add_row_number"
   ]
  },
  {
   "cell_type": "markdown",
   "metadata": {},
   "source": [
    "### Quiz Q. 13"
   ]
  },
  {
   "cell_type": "code",
   "execution_count": 104,
   "metadata": {
    "collapsed": false
   },
   "outputs": [
    {
     "name": "stdout",
     "output_type": "stream",
     "text": [
      "+----+--------------------------------------------------------------+\n",
      "| id |                             name                             |\n",
      "+----+--------------------------------------------------------------+\n",
      "| 0  |    Infantino Wrap and Tie Baby Carrier, Black Blueberries    |\n",
      "| 1  |   Buttons Cloth Diaper Cover - One Size - 8 Color Options    |\n",
      "| 2  |        Britax Decathlon Convertible Car Seat, Tiffany        |\n",
      "| 3  |          P'Kolino Silly Soft Seating in Tias, Green          |\n",
      "| 4  |        Mamas &amp; Papas 2014 Urbo2 Stroller - Black         |\n",
      "| 5  |    Evenflo X Sport Plus Convenience Stroller - Christina     |\n",
      "| 6  |   Baby Jogger City Mini GT Single Stroller, Shadow/Orange    |\n",
      "| 7  |         Evenflo 6 Pack Classic Glass Bottle, 4-Ounce         |\n",
      "| 8  |     Simple Wishes Hands-Free Breastpump Bra, Pink, XS-L      |\n",
      "| 9  |          Diono RadianRXT Convertible Car Seat, Plum          |\n",
      "| 10 |       Baby Einstein Around The World Discovery Center        |\n",
      "| 11 | Freemie Hands-Free Concealable Breast Pump Collection System |\n",
      "| 12 |          Graco Pack 'n Play Element Playard - Flint          |\n",
      "| 13 | Graco FastAction Fold Jogger Click Connect Stroller, Gra...  |\n",
      "| 14 |     Fisher-Price Cradle 'N Swing,  My Little Snugabunny      |\n",
      "| 15 |              Britax 2012 B-Agile Stroller, Red               |\n",
      "| 16 | Roan Rocco Classic Pram Stroller 2-in-1 with Bassinet an...  |\n",
      "| 17 |     Summer Infant Wide View Digital Color Video Monitor      |\n",
      "| 18 | Ikea 36 Pcs Kalas Kids Plastic BPA Free Flatware, Bowl, ...  |\n",
      "| 19 |   Baby Jogger City Mini GT Double Stroller, Shadow/Orange    |\n",
      "| 20 | Phil &amp; Teds Navigator Buggy Golden Kiwi Free 2nd Sea...  |\n",
      "| 21 |        Delta Universal 6 Drawer Dresser, Black Cherry        |\n",
      "| 22 |     Door Monkey, Childproof Door Lock &amp; Pinch Guard      |\n",
      "| 23 |               Britax Frontier Booster Car Seat               |\n",
      "| 24 |    Britax Boulevard 70-G3 Convertible Car Seat Seat, Onyx    |\n",
      "| 25 |        Stork Craft Beatrice Combo Tower Chest, White         |\n",
      "| 26 |                  Dr. Brown's Bottle Warmer                   |\n",
      "| 27 |        Roundabout Convertible Car Seat - Grey Wicker         |\n",
      "| 28 |          Emily Green 6&quot; Bowl, Sunshine Safari           |\n",
      "| 29 |     The First Years True Fit Convertible Car Seat, Monet     |\n",
      "+----+--------------------------------------------------------------+\n",
      "[30 rows x 2 columns]\n",
      "\n"
     ]
    }
   ],
   "source": [
    "top30Names.add_row_number().print_rows(num_rows=30, max_column_width=60)"
   ]
  },
  {
   "cell_type": "markdown",
   "metadata": {},
   "source": [
    "### Quiz Q. 14"
   ]
  },
  {
   "cell_type": "code",
   "execution_count": 106,
   "metadata": {
    "collapsed": false
   },
   "outputs": [
    {
     "name": "stdout",
     "output_type": "stream",
     "text": [
      "+----+-------------------------------------------------------------+\n",
      "| id |                             name                            |\n",
      "+----+-------------------------------------------------------------+\n",
      "| 0  |         Fisher-Price Ocean Wonders Aquarium Bouncer         |\n",
      "| 1  | Levana Safe N'See Digital Video Baby Monitor with Talk-t... |\n",
      "| 2  |        Safety 1st Exchangeable Tip 3 in 1 Thermometer       |\n",
      "| 3  | Adiri BPA Free Natural Nurser Ultimate Bottle Stage 1 Wh... |\n",
      "| 4  | VTech Communications Safe &amp; Sounds Full Color Video ... |\n",
      "| 5  | The First Years True Choice P400 Premium Digital Monitor... |\n",
      "| 6  |             Safety 1st High-Def Digital Monitor             |\n",
      "| 7  |            Cloth Diaper Sprayer--styles may vary            |\n",
      "| 8  |              Philips AVENT Newborn Starter Set              |\n",
      "| 9  | Motorola Digital Video Baby Monitor with Room Temperatur... |\n",
      "| 10 |            Ellaroo Mei Tai Baby Carrier - Hershey           |\n",
      "| 11 |         Cosco Alpha Omega Elite Convertible Car Seat        |\n",
      "| 12 |     Chicco Cortina KeyFit 30 Travel System in Adventure     |\n",
      "| 13 | Belkin WeMo Wi-Fi Baby Monitor for Apple iPhone, iPad, a... |\n",
      "| 14 |          Peg-Perego Tatamia High Chair, White Latte         |\n",
      "| 15 |               NUK Cook-n-Blend Baby Food Maker              |\n",
      "| 16 | VTech Communications Safe &amp; Sound Digital Audio Moni... |\n",
      "| 17 |            Safety 1st Deluxe 4-in-1 Bath Station            |\n",
      "| 18 |            Regalo My Cot Portable Bed, Royal Blue           |\n",
      "| 19 |        Thirsties Hemp Inserts 2 Pack, Small 6-18 Lbs        |\n",
      "| 20 |             Angelcare Baby Sound Monitor, White             |\n",
      "| 21 |         Baby Trend Inertia Infant Car Seat - Horizon        |\n",
      "| 22 |         Kidz Delight Smooth Touch Tablet, Fun N Play        |\n",
      "| 23 |         One Step Ahead Hide-Away Extra Long Bed Rail        |\n",
      "| 24 | Keekaroo Height Right High Chair, Infant Insert and Tray... |\n",
      "| 25 | Nuby Natural Touch Silicone Travel Infa Feeder, Colors M... |\n",
      "| 26 |    Fisher-Price Discover 'n Grow Take-Along Play Blanket    |\n",
      "| 27 |       Baby Jogger Summit XC Double Stroller, Red/Black      |\n",
      "| 28 |     Valco Baby Tri-mode Twin Stroller EX- Hot Chocolate     |\n",
      "| 29 | Levana BABYVIEW20 Interference Free Digital Wireless Vid... |\n",
      "+----+-------------------------------------------------------------+\n",
      "[30 rows x 2 columns]\n",
      "\n"
     ]
    }
   ],
   "source": [
    "bottom30Names.add_row_number().print_rows(num_rows=30, max_column_width=60)"
   ]
  },
  {
   "cell_type": "markdown",
   "metadata": {},
   "source": [
    "### Quiz Q. 15 - Finding Accuracy\n",
    "\n",
    "The accuracy of the trained classifier can be given by:-\n",
    "\n",
    "$$accuracy = \\frac{no-of-correctly-classified-examples}{total-examples}$$"
   ]
  },
  {
   "cell_type": "code",
   "execution_count": 132,
   "metadata": {
    "collapsed": false
   },
   "outputs": [],
   "source": [
    "def get_classification_accuracy(model, sf, xColName, yColName):\n",
    "    test_matrix = vectorizer.transform(sf['review_clean'].to_numpy())\n",
    "    predictions = model.predict(test_matrix)\n",
    "    errors = predictions == sf[yColName]\n",
    "    return predictions, float(errors.sum())/len(predictions)"
   ]
  },
  {
   "cell_type": "code",
   "execution_count": 141,
   "metadata": {
    "collapsed": false
   },
   "outputs": [
    {
     "name": "stdout",
     "output_type": "stream",
     "text": [
      "Accuracy: 0.932265418766\n"
     ]
    }
   ],
   "source": [
    "predictions, accuracy = get_classification_accuracy(sentiment_model, test_data, 'review_clean', 'sentiment')\n",
    "print \"Accuracy:\", accuracy"
   ]
  },
  {
   "cell_type": "markdown",
   "metadata": {},
   "source": [
    "## Classifier With Fewer Words"
   ]
  },
  {
   "cell_type": "code",
   "execution_count": 135,
   "metadata": {
    "collapsed": true
   },
   "outputs": [],
   "source": [
    "significant_words = ['love', 'great', 'easy', 'old', 'little', 'perfect', 'loves', \n",
    "      'well', 'able', 'car', 'broke', 'less', 'even', 'waste', 'disappointed', \n",
    "      'work', 'product', 'money', 'would', 'return']"
   ]
  },
  {
   "cell_type": "code",
   "execution_count": 136,
   "metadata": {
    "collapsed": true
   },
   "outputs": [],
   "source": [
    "vectorizer_word_subset = CountVectorizer(vocabulary=significant_words) # limit to 20 words\n",
    "train_matrix_word_subset = vectorizer_word_subset.fit_transform(train_data['review_clean'])"
   ]
  },
  {
   "cell_type": "code",
   "execution_count": 137,
   "metadata": {
    "collapsed": false
   },
   "outputs": [
    {
     "data": {
      "text/plain": [
       "LogisticRegression(C=1.0, class_weight=None, dual=False, fit_intercept=True,\n",
       "          intercept_scaling=1, max_iter=100, multi_class='ovr', n_jobs=1,\n",
       "          penalty='l2', random_state=None, solver='liblinear', tol=0.0001,\n",
       "          verbose=0, warm_start=False)"
      ]
     },
     "execution_count": 137,
     "metadata": {},
     "output_type": "execute_result"
    }
   ],
   "source": [
    "simple_model = LogisticRegression()\n",
    "simple_model.fit(X = train_matrix_word_subset, y = train_data['sentiment'])"
   ]
  },
  {
   "cell_type": "code",
   "execution_count": 148,
   "metadata": {
    "collapsed": false
   },
   "outputs": [
    {
     "ename": "RuntimeError",
     "evalue": "All column should be of the same length",
     "output_type": "error",
     "traceback": [
      "\u001b[1;31m---------------------------------------------------------------------------\u001b[0m",
      "\u001b[1;31mRuntimeError\u001b[0m                              Traceback (most recent call last)",
      "\u001b[1;32m<ipython-input-148-305b3313567d>\u001b[0m in \u001b[0;36m<module>\u001b[1;34m()\u001b[0m\n\u001b[0;32m      2\u001b[0m                                          'coefficient':simple_model.coef_.flatten()})\n\u001b[0;32m      3\u001b[0m sentiment_model_coef_table = sf.SFrame({'word':significant_words,\n\u001b[1;32m----> 4\u001b[1;33m                                          'coefficient':sentiment_model.coef_.flatten()})\n\u001b[0m",
      "\u001b[1;32m/home/chauhraj/software/anaconda3/envs/ml/lib/python2.7/site-packages/sframe/data_structures/sframe.pyc\u001b[0m in \u001b[0;36m__init__\u001b[1;34m(self, data, format, _proxy)\u001b[0m\n\u001b[0;32m    951\u001b[0m                     \u001b[1;32mpass\u001b[0m\u001b[1;33m\u001b[0m\u001b[0m\n\u001b[0;32m    952\u001b[0m                 \u001b[1;32melse\u001b[0m\u001b[1;33m:\u001b[0m\u001b[1;33m\u001b[0m\u001b[0m\n\u001b[1;32m--> 953\u001b[1;33m                     \u001b[1;32mraise\u001b[0m \u001b[0mValueError\u001b[0m\u001b[1;33m(\u001b[0m\u001b[1;34m'Unknown input type: '\u001b[0m \u001b[1;33m+\u001b[0m \u001b[0mformat\u001b[0m\u001b[1;33m)\u001b[0m\u001b[1;33m\u001b[0m\u001b[0m\n\u001b[0m\u001b[0;32m    954\u001b[0m \u001b[1;33m\u001b[0m\u001b[0m\n\u001b[0;32m    955\u001b[0m         \u001b[0msframe_size\u001b[0m \u001b[1;33m=\u001b[0m \u001b[1;33m-\u001b[0m\u001b[1;36m1\u001b[0m\u001b[1;33m\u001b[0m\u001b[0m\n",
      "\u001b[1;32m/home/chauhraj/software/anaconda3/envs/ml/lib/python2.7/site-packages/sframe/cython/context.pyc\u001b[0m in \u001b[0;36m__exit__\u001b[1;34m(self, exc_type, exc_value, traceback)\u001b[0m\n\u001b[0;32m     47\u001b[0m             \u001b[1;32mif\u001b[0m \u001b[1;32mnot\u001b[0m \u001b[0mself\u001b[0m\u001b[1;33m.\u001b[0m\u001b[0mshow_cython_trace\u001b[0m\u001b[1;33m:\u001b[0m\u001b[1;33m\u001b[0m\u001b[0m\n\u001b[0;32m     48\u001b[0m                 \u001b[1;31m# To hide cython trace, we re-raise from here\u001b[0m\u001b[1;33m\u001b[0m\u001b[1;33m\u001b[0m\u001b[0m\n\u001b[1;32m---> 49\u001b[1;33m                 \u001b[1;32mraise\u001b[0m \u001b[0mexc_type\u001b[0m\u001b[1;33m(\u001b[0m\u001b[0mexc_value\u001b[0m\u001b[1;33m)\u001b[0m\u001b[1;33m\u001b[0m\u001b[0m\n\u001b[0m\u001b[0;32m     50\u001b[0m             \u001b[1;32melse\u001b[0m\u001b[1;33m:\u001b[0m\u001b[1;33m\u001b[0m\u001b[0m\n\u001b[0;32m     51\u001b[0m                 \u001b[1;31m# To show the full trace, we do nothing and let exception propagate\u001b[0m\u001b[1;33m\u001b[0m\u001b[1;33m\u001b[0m\u001b[0m\n",
      "\u001b[1;31mRuntimeError\u001b[0m: All column should be of the same length"
     ]
    }
   ],
   "source": [
    "simple_model_coef_table = sf.SFrame({'word':significant_words,\n",
    "                                         'coefficient':simple_model.coef_.flatten()})\n",
    "sentiment_model_coef_table = sf.SFrame({'word':significant_words,\n",
    "                                         'coefficient':sentiment_model.coef_.flatten()})"
   ]
  },
  {
   "cell_type": "code",
   "execution_count": 144,
   "metadata": {
    "collapsed": false
   },
   "outputs": [
    {
     "name": "stdout",
     "output_type": "stream",
     "text": [
      "+-----------------+--------------+\n",
      "|   coefficient   |     word     |\n",
      "+-----------------+--------------+\n",
      "|  1.36368975931  |     love     |\n",
      "|  0.943999590572 |    great     |\n",
      "|  1.19253827349  |     easy     |\n",
      "|  0.085512779463 |     old      |\n",
      "|  0.520185762718 |    little    |\n",
      "|  1.50981247669  |   perfect    |\n",
      "|  1.67307389259  |    loves     |\n",
      "|  0.503760457767 |     well     |\n",
      "|  0.190908572065 |     able     |\n",
      "| 0.0588546711524 |     car      |\n",
      "|  -1.65157634496 |    broke     |\n",
      "| -0.209562864534 |     less     |\n",
      "| -0.511379631799 |     even     |\n",
      "|  -2.03369861394 |    waste     |\n",
      "|  -2.3482982195  | disappointed |\n",
      "| -0.621168773641 |     work     |\n",
      "| -0.320556236735 |   product    |\n",
      "| -0.898030737715 |    money     |\n",
      "| -0.362166742274 |    would     |\n",
      "|  -2.10933109032 |    return    |\n",
      "+-----------------+--------------+\n",
      "[20 rows x 2 columns]\n",
      "\n"
     ]
    }
   ],
   "source": [
    "simple_model_coef_table.print_rows(20)"
   ]
  },
  {
   "cell_type": "code",
   "execution_count": 145,
   "metadata": {
    "collapsed": true
   },
   "outputs": [],
   "source": [
    "pos_ones = simple_model_coef_table[simple_model_coef_table['coefficient'] >= 0]"
   ]
  },
  {
   "cell_type": "code",
   "execution_count": 149,
   "metadata": {
    "collapsed": false
   },
   "outputs": [
    {
     "name": "stdout",
     "output_type": "stream",
     "text": [
      "+-----------------+---------+\n",
      "|   coefficient   |   word  |\n",
      "+-----------------+---------+\n",
      "|  1.36368975931  |   love  |\n",
      "|  0.943999590572 |  great  |\n",
      "|  1.19253827349  |   easy  |\n",
      "|  0.085512779463 |   old   |\n",
      "|  0.520185762718 |  little |\n",
      "|  1.50981247669  | perfect |\n",
      "|  1.67307389259  |  loves  |\n",
      "|  0.503760457767 |   well  |\n",
      "|  0.190908572065 |   able  |\n",
      "| 0.0588546711524 |   car   |\n",
      "+-----------------+---------+\n",
      "[10 rows x 2 columns]\n",
      "\n"
     ]
    }
   ],
   "source": [
    "pos_ones.print_rows(20)"
   ]
  },
  {
   "cell_type": "code",
   "execution_count": 154,
   "metadata": {
    "collapsed": false
   },
   "outputs": [
    {
     "data": {
      "text/html": [
       "<div style=\"max-height:1000px;max-width:1500px;overflow:auto;\"><table frame=\"box\" rules=\"cols\">\n",
       "    <tr>\n",
       "        <th style=\"padding-left: 1em; padding-right: 1em; text-align: center\">name</th>\n",
       "        <th style=\"padding-left: 1em; padding-right: 1em; text-align: center\">review</th>\n",
       "        <th style=\"padding-left: 1em; padding-right: 1em; text-align: center\">rating</th>\n",
       "        <th style=\"padding-left: 1em; padding-right: 1em; text-align: center\">review_clean</th>\n",
       "        <th style=\"padding-left: 1em; padding-right: 1em; text-align: center\">sentiment</th>\n",
       "    </tr>\n",
       "    <tr>\n",
       "        <td style=\"padding-left: 1em; padding-right: 1em; text-align: center; vertical-align: top\">Planetwise Wipe Pouch</td>\n",
       "        <td style=\"padding-left: 1em; padding-right: 1em; text-align: center; vertical-align: top\">it came early and was not<br>disappointed. i love ...</td>\n",
       "        <td style=\"padding-left: 1em; padding-right: 1em; text-align: center; vertical-align: top\">5.0</td>\n",
       "        <td style=\"padding-left: 1em; padding-right: 1em; text-align: center; vertical-align: top\">it came early and was not<br>disappointed i love ...</td>\n",
       "        <td style=\"padding-left: 1em; padding-right: 1em; text-align: center; vertical-align: top\">1</td>\n",
       "    </tr>\n",
       "    <tr>\n",
       "        <td style=\"padding-left: 1em; padding-right: 1em; text-align: center; vertical-align: top\">Annas Dream Full Quilt<br>with 2 Shams ...</td>\n",
       "        <td style=\"padding-left: 1em; padding-right: 1em; text-align: center; vertical-align: top\">Very soft and comfortable<br>and warmer than it ...</td>\n",
       "        <td style=\"padding-left: 1em; padding-right: 1em; text-align: center; vertical-align: top\">5.0</td>\n",
       "        <td style=\"padding-left: 1em; padding-right: 1em; text-align: center; vertical-align: top\">Very soft and comfortable<br>and warmer than it ...</td>\n",
       "        <td style=\"padding-left: 1em; padding-right: 1em; text-align: center; vertical-align: top\">1</td>\n",
       "    </tr>\n",
       "    <tr>\n",
       "        <td style=\"padding-left: 1em; padding-right: 1em; text-align: center; vertical-align: top\">Stop Pacifier Sucking<br>without tears with ...</td>\n",
       "        <td style=\"padding-left: 1em; padding-right: 1em; text-align: center; vertical-align: top\">This is a product well<br>worth the purchase.  I ...</td>\n",
       "        <td style=\"padding-left: 1em; padding-right: 1em; text-align: center; vertical-align: top\">5.0</td>\n",
       "        <td style=\"padding-left: 1em; padding-right: 1em; text-align: center; vertical-align: top\">This is a product well<br>worth the purchase  I ...</td>\n",
       "        <td style=\"padding-left: 1em; padding-right: 1em; text-align: center; vertical-align: top\">1</td>\n",
       "    </tr>\n",
       "    <tr>\n",
       "        <td style=\"padding-left: 1em; padding-right: 1em; text-align: center; vertical-align: top\">Stop Pacifier Sucking<br>without tears with ...</td>\n",
       "        <td style=\"padding-left: 1em; padding-right: 1em; text-align: center; vertical-align: top\">All of my kids have cried<br>non-stop when I tried to ...</td>\n",
       "        <td style=\"padding-left: 1em; padding-right: 1em; text-align: center; vertical-align: top\">5.0</td>\n",
       "        <td style=\"padding-left: 1em; padding-right: 1em; text-align: center; vertical-align: top\">All of my kids have cried<br>nonstop when I tried to ...</td>\n",
       "        <td style=\"padding-left: 1em; padding-right: 1em; text-align: center; vertical-align: top\">1</td>\n",
       "    </tr>\n",
       "    <tr>\n",
       "        <td style=\"padding-left: 1em; padding-right: 1em; text-align: center; vertical-align: top\">Stop Pacifier Sucking<br>without tears with ...</td>\n",
       "        <td style=\"padding-left: 1em; padding-right: 1em; text-align: center; vertical-align: top\">When the Binky Fairy came<br>to our house, we didn't ...</td>\n",
       "        <td style=\"padding-left: 1em; padding-right: 1em; text-align: center; vertical-align: top\">5.0</td>\n",
       "        <td style=\"padding-left: 1em; padding-right: 1em; text-align: center; vertical-align: top\">When the Binky Fairy came<br>to our house we didnt ...</td>\n",
       "        <td style=\"padding-left: 1em; padding-right: 1em; text-align: center; vertical-align: top\">1</td>\n",
       "    </tr>\n",
       "</table>\n",
       "[5 rows x 5 columns]<br/>\n",
       "</div>"
      ],
      "text/plain": [
       "Columns:\n",
       "\tname\tstr\n",
       "\treview\tstr\n",
       "\trating\tfloat\n",
       "\treview_clean\tstr\n",
       "\tsentiment\tint\n",
       "\n",
       "Rows: 5\n",
       "\n",
       "Data:\n",
       "+-------------------------------+-------------------------------+--------+\n",
       "|              name             |             review            | rating |\n",
       "+-------------------------------+-------------------------------+--------+\n",
       "|     Planetwise Wipe Pouch     | it came early and was not ... |  5.0   |\n",
       "| Annas Dream Full Quilt wit... | Very soft and comfortable ... |  5.0   |\n",
       "| Stop Pacifier Sucking with... | This is a product well wor... |  5.0   |\n",
       "| Stop Pacifier Sucking with... | All of my kids have cried ... |  5.0   |\n",
       "| Stop Pacifier Sucking with... | When the Binky Fairy came ... |  5.0   |\n",
       "+-------------------------------+-------------------------------+--------+\n",
       "+-------------------------------+-----------+\n",
       "|          review_clean         | sentiment |\n",
       "+-------------------------------+-----------+\n",
       "| it came early and was not ... |     1     |\n",
       "| Very soft and comfortable ... |     1     |\n",
       "| This is a product well wor... |     1     |\n",
       "| All of my kids have cried ... |     1     |\n",
       "| When the Binky Fairy came ... |     1     |\n",
       "+-------------------------------+-----------+\n",
       "[5 rows x 5 columns]"
      ]
     },
     "execution_count": 154,
     "metadata": {},
     "output_type": "execute_result"
    }
   ],
   "source": [
    "train_data.head(5)"
   ]
  }
 ],
 "metadata": {
  "kernelspec": {
   "display_name": "Python 2",
   "language": "python",
   "name": "python2"
  },
  "language_info": {
   "codemirror_mode": {
    "name": "ipython",
    "version": 2
   },
   "file_extension": ".py",
   "mimetype": "text/x-python",
   "name": "python",
   "nbconvert_exporter": "python",
   "pygments_lexer": "ipython2",
   "version": "2.7.11"
  }
 },
 "nbformat": 4,
 "nbformat_minor": 0
}
